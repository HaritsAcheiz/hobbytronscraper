{
 "cells": [
  {
   "cell_type": "code",
   "execution_count": 2,
   "id": "d9a33ded-4a9c-4b8d-af1b-c3eedec8ceef",
   "metadata": {},
   "outputs": [],
   "source": [
    "import pandas as pd\n",
    "from shopifyapi import ShopifyApp\n",
    "import os\n",
    "from dotenv import load_dotenv\n",
    "from converter import to_handle"
   ]
  },
  {
   "cell_type": "code",
   "execution_count": 3,
   "id": "ef815cea-2759-4dfc-a9c7-53bae8547e6d",
   "metadata": {},
   "outputs": [
    {
     "data": {
      "text/plain": [
       "False"
      ]
     },
     "execution_count": 3,
     "metadata": {},
     "output_type": "execute_result"
    }
   ],
   "source": [
    "load_dotenv()"
   ]
  },
  {
   "cell_type": "markdown",
   "id": "36a14711-a29a-4ef0-b52b-41bcf186df16",
   "metadata": {},
   "source": [
    "# Support Functions"
   ]
  },
  {
   "cell_type": "code",
   "execution_count": null,
   "id": "e1611fa7-a7f6-4f12-bec5-40d2ca7e6417",
   "metadata": {},
   "outputs": [],
   "source": []
  },
  {
   "cell_type": "markdown",
   "id": "815b27d1-aff1-4bfe-acf5-ec6d907cb5d6",
   "metadata": {},
   "source": [
    "# Get Collection"
   ]
  },
  {
   "cell_type": "code",
   "execution_count": null,
   "id": "4e84dbb4-98ad-4b33-a28c-7645bcaf7da2",
   "metadata": {},
   "outputs": [],
   "source": [
    "df = pd.read_csv('product_data/products_output.csv')"
   ]
  },
  {
   "cell_type": "code",
   "execution_count": null,
   "id": "c49682a6-1564-4053-9846-660b2c9a3b84",
   "metadata": {},
   "outputs": [],
   "source": [
    "df.info()"
   ]
  },
  {
   "cell_type": "code",
   "execution_count": null,
   "id": "b10d9ac9-a61d-46eb-999a-874608f183ee",
   "metadata": {},
   "outputs": [],
   "source": [
    "df.head()"
   ]
  },
  {
   "cell_type": "code",
   "execution_count": null,
   "id": "19684aad-208a-4f08-ade1-aab3020b396c",
   "metadata": {},
   "outputs": [],
   "source": [
    "df['Collection Rule'] = df['Tags'].str.split(',')"
   ]
  },
  {
   "cell_type": "code",
   "execution_count": null,
   "id": "4d74efca-b2a9-43a4-b7ce-ab391b2545b7",
   "metadata": {},
   "outputs": [],
   "source": [
    "parent_product_df = df[~pd.isna(df['Title'])]"
   ]
  },
  {
   "cell_type": "code",
   "execution_count": null,
   "id": "ca39085c-5973-4daa-b985-5751cccaa713",
   "metadata": {},
   "outputs": [],
   "source": [
    "exploded_parent_product_df = parent_product_df.explode('Collection Rule', ignore_index=True)"
   ]
  },
  {
   "cell_type": "code",
   "execution_count": null,
   "id": "612cf814-f869-42bb-8397-928f94f561a3",
   "metadata": {},
   "outputs": [],
   "source": [
    "exploded_parent_product_df['Collection Rule'] = exploded_parent_product_df['Collection Rule'].str.strip()"
   ]
  },
  {
   "cell_type": "code",
   "execution_count": null,
   "id": "a1932faa-989d-446c-8d9b-e2122caf9e21",
   "metadata": {},
   "outputs": [],
   "source": [
    "exploded_parent_product_df['Collection Name'] = exploded_parent_product_df['Collection Rule'].str.title()"
   ]
  },
  {
   "cell_type": "code",
   "execution_count": null,
   "id": "3bce3906-8407-4651-aeea-6b12238b47ae",
   "metadata": {},
   "outputs": [],
   "source": [
    "collection_df = exploded_parent_product_df[['Collection Name', 'Collection Rule']]"
   ]
  },
  {
   "cell_type": "code",
   "execution_count": null,
   "id": "d4b8f953-2a75-45c1-9ddc-eb11f884e9dc",
   "metadata": {},
   "outputs": [],
   "source": [
    "collection_df.dropna(inplace=True, ignore_index=True)"
   ]
  },
  {
   "cell_type": "code",
   "execution_count": null,
   "id": "d1db3b1c-6454-49c7-9f1a-76594365501b",
   "metadata": {},
   "outputs": [],
   "source": [
    "collection_df.drop_duplicates(inplace=True, ignore_index=True)"
   ]
  },
  {
   "cell_type": "code",
   "execution_count": null,
   "id": "2a2cf81f-2a13-4385-820b-7e9c03f1b490",
   "metadata": {},
   "outputs": [],
   "source": [
    "collection_df"
   ]
  },
  {
   "cell_type": "markdown",
   "id": "9716689d-ae1d-4db0-bb0c-7bfe464dbc44",
   "metadata": {},
   "source": [
    "# Shopify"
   ]
  },
  {
   "cell_type": "code",
   "execution_count": null,
   "id": "61056aab-4fb7-4e5a-9e41-be24c21f2d07",
   "metadata": {},
   "outputs": [],
   "source": [
    "shopify = ShopifyApp(store_name=os.getenv('STORE_NAME'), access_token=os.getenv('ACCESS_TOKEN'))\n",
    "client = shopify.create_session()"
   ]
  },
  {
   "cell_type": "code",
   "execution_count": null,
   "id": "111579b0-1542-4e4b-a702-39ff9ffbf9e4",
   "metadata": {},
   "outputs": [],
   "source": [
    "for index in range(len(collection_df)):\n",
    "    print(collection_df.iloc[index, 0])"
   ]
  },
  {
   "cell_type": "code",
   "execution_count": null,
   "id": "cce23ed9-68e5-4246-9e04-bcee6d366605",
   "metadata": {},
   "outputs": [],
   "source": [
    "has_next_page = True\n",
    "cursor = None\n",
    "results = list()\n",
    "while has_next_page:\n",
    "    response = shopify.get_collections(client, cursor=cursor)\n",
    "    records = response['data']['collections']['nodes']\n",
    "    results.extend(records)\n",
    "    has_next_page = response['data']['collections']['pageInfo']['hasNextPage']\n",
    "    cursor = response['data']['collections']['pageInfo']['endCursor']\n",
    "results_df = pd.DataFrame.from_records(results)\n",
    "results_df.to_csv('collection_list.csv', index=False)"
   ]
  },
  {
   "cell_type": "code",
   "execution_count": null,
   "id": "8893e24a-4433-46a0-9753-43d13b5df072",
   "metadata": {},
   "outputs": [],
   "source": [
    "shopify_col_df = pd.read_csv('collection_list.csv')"
   ]
  },
  {
   "cell_type": "code",
   "execution_count": null,
   "id": "f9b838c4-ff16-4134-8413-722005d26266",
   "metadata": {},
   "outputs": [],
   "source": [
    "collection_df['Handle'] = collection_df.apply(lambda x: to_handle(title=x['Collection Name'], alt_title=''), axis=1)"
   ]
  },
  {
   "cell_type": "code",
   "execution_count": null,
   "id": "8474472b-64c9-4184-9a7e-309a344d8f68",
   "metadata": {},
   "outputs": [],
   "source": [
    "collection_df = collection_df.merge(shopify_col_df, how='left', left_on='Handle', right_on='handle')"
   ]
  },
  {
   "cell_type": "code",
   "execution_count": null,
   "id": "f62821ef-24ab-4509-939e-f514f5e44c94",
   "metadata": {},
   "outputs": [],
   "source": [
    "collection_df"
   ]
  },
  {
   "cell_type": "code",
   "execution_count": null,
   "id": "c8890e0f-337b-43e7-a2be-898633a86fe1",
   "metadata": {},
   "outputs": [],
   "source": [
    "collection_df[~pd.isna(collection_df['id'])]"
   ]
  },
  {
   "cell_type": "code",
   "execution_count": null,
   "id": "2e1d9b82-0c1f-4290-875e-7a91d5af28a2",
   "metadata": {},
   "outputs": [],
   "source": [
    "collection_df[pd.isna(collection_df['id'])]"
   ]
  },
  {
   "cell_type": "code",
   "execution_count": null,
   "id": "f292193d-bd46-43d4-bd08-f2919efb2c21",
   "metadata": {},
   "outputs": [],
   "source": []
  }
 ],
 "metadata": {
  "kernelspec": {
   "display_name": "hobbytron_venv",
   "language": "python",
   "name": "hobbytron_venv"
  },
  "language_info": {
   "codemirror_mode": {
    "name": "ipython",
    "version": 3
   },
   "file_extension": ".py",
   "mimetype": "text/x-python",
   "name": "python",
   "nbconvert_exporter": "python",
   "pygments_lexer": "ipython3",
   "version": "3.11.2"
  }
 },
 "nbformat": 4,
 "nbformat_minor": 5
}
