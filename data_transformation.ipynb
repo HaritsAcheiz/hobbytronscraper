{
 "cells": [
  {
   "cell_type": "code",
   "execution_count": null,
   "id": "d9a33ded-4a9c-4b8d-af1b-c3eedec8ceef",
   "metadata": {},
   "outputs": [],
   "source": [
    "import pandas as pd\n",
    "from shopifyapi import ShopifyApp\n",
    "import os\n",
    "from dotenv import load_dotenv\n",
    "from converter import to_handle"
   ]
  },
  {
   "cell_type": "code",
   "execution_count": null,
   "id": "ef815cea-2759-4dfc-a9c7-53bae8547e6d",
   "metadata": {},
   "outputs": [],
   "source": [
    "load_dotenv()"
   ]
  },
  {
   "cell_type": "markdown",
   "id": "36a14711-a29a-4ef0-b52b-41bcf186df16",
   "metadata": {},
   "source": [
    "# Support Functions"
   ]
  },
  {
   "cell_type": "code",
   "execution_count": null,
   "id": "e1611fa7-a7f6-4f12-bec5-40d2ca7e6417",
   "metadata": {},
   "outputs": [],
   "source": [
    "def adding_upc(df):\n",
    "    try:\n",
    "        upc_df = pd.read_csv('hobbytron UPC 2024 added.csv')\n",
    "        upc_df.fillna('', inplace=True)\n",
    "        for index in range(len(df)):\n",
    "            if pd.notna(df.loc[index, 'Variant SKU']):\n",
    "                df.loc[index, 'Variant Barcode'] = upc_df[upc_df['Available'] == ''].iloc[0, 0].copy()\n",
    "                df.loc[index, 'Google Shopping / MPN'] = upc_df[upc_df['Available'] == ''].iloc[0, 0].copy()\n",
    "                index = upc_df.index[upc_df['Available'] == ''][0]\n",
    "                upc_df.iloc[index, 1] = 'Used'\n",
    "            else:\n",
    "                df.loc[index, 'Variant Barcode'] = ''\n",
    "                df.loc[index, 'Google Shopping / MPN'] = ''\n",
    "        upc_df.to_csv('hobbytron UPC 2024 added.csv', index=False)\n",
    "\n",
    "        return df\n",
    "    \n",
    "    except IndexError:\n",
    "        print('UPC are not available!')"
   ]
  },
  {
   "cell_type": "code",
   "execution_count": null,
   "id": "8899bb06-ffa2-4adc-b13e-ac9083c54b5d",
   "metadata": {},
   "outputs": [],
   "source": [
    "def adding_tags(title, tags):\n",
    "    try:\n",
    "        if pd.notna(title):\n",
    "            if pd.notna(tags):\n",
    "                result = tags + ', toys'\n",
    "            else:\n",
    "                result = 'toys'\n",
    "        else:\n",
    "            result = None\n",
    "        \n",
    "        return result\n",
    "    except Exception as e:\n",
    "        print(e)\n",
    "            "
   ]
  },
  {
   "cell_type": "markdown",
   "id": "815b27d1-aff1-4bfe-acf5-ec6d907cb5d6",
   "metadata": {},
   "source": [
    "# Get Collection"
   ]
  },
  {
   "cell_type": "code",
   "execution_count": null,
   "id": "4e84dbb4-98ad-4b33-a28c-7645bcaf7da2",
   "metadata": {},
   "outputs": [],
   "source": [
    "df = pd.read_csv('product_data/products_output.csv')"
   ]
  },
  {
   "cell_type": "code",
   "execution_count": null,
   "id": "c49682a6-1564-4053-9846-660b2c9a3b84",
   "metadata": {},
   "outputs": [],
   "source": [
    "df.info()"
   ]
  },
  {
   "cell_type": "code",
   "execution_count": null,
   "id": "b10d9ac9-a61d-46eb-999a-874608f183ee",
   "metadata": {},
   "outputs": [],
   "source": [
    "df.head()"
   ]
  },
  {
   "cell_type": "code",
   "execution_count": null,
   "id": "19684aad-208a-4f08-ade1-aab3020b396c",
   "metadata": {},
   "outputs": [],
   "source": [
    "df['Collection Rule'] = df['Tags'].str.split(',')"
   ]
  },
  {
   "cell_type": "code",
   "execution_count": null,
   "id": "4d74efca-b2a9-43a4-b7ce-ab391b2545b7",
   "metadata": {},
   "outputs": [],
   "source": [
    "parent_product_df = df[~pd.isna(df['Title'])]"
   ]
  },
  {
   "cell_type": "code",
   "execution_count": null,
   "id": "ca39085c-5973-4daa-b985-5751cccaa713",
   "metadata": {},
   "outputs": [],
   "source": [
    "exploded_parent_product_df = parent_product_df.explode('Collection Rule', ignore_index=True)"
   ]
  },
  {
   "cell_type": "code",
   "execution_count": null,
   "id": "612cf814-f869-42bb-8397-928f94f561a3",
   "metadata": {},
   "outputs": [],
   "source": [
    "exploded_parent_product_df['Collection Rule'] = exploded_parent_product_df['Collection Rule'].str.strip()"
   ]
  },
  {
   "cell_type": "code",
   "execution_count": null,
   "id": "a1932faa-989d-446c-8d9b-e2122caf9e21",
   "metadata": {},
   "outputs": [],
   "source": [
    "exploded_parent_product_df['Collection Name'] = exploded_parent_product_df['Collection Rule'].str.title()"
   ]
  },
  {
   "cell_type": "code",
   "execution_count": null,
   "id": "3bce3906-8407-4651-aeea-6b12238b47ae",
   "metadata": {},
   "outputs": [],
   "source": [
    "collection_df = exploded_parent_product_df[['Collection Name', 'Collection Rule']]"
   ]
  },
  {
   "cell_type": "code",
   "execution_count": null,
   "id": "d4b8f953-2a75-45c1-9ddc-eb11f884e9dc",
   "metadata": {},
   "outputs": [],
   "source": [
    "collection_df.dropna(inplace=True, ignore_index=True)"
   ]
  },
  {
   "cell_type": "code",
   "execution_count": null,
   "id": "d1db3b1c-6454-49c7-9f1a-76594365501b",
   "metadata": {},
   "outputs": [],
   "source": [
    "collection_df.drop_duplicates(inplace=True, ignore_index=True)"
   ]
  },
  {
   "cell_type": "code",
   "execution_count": null,
   "id": "2a2cf81f-2a13-4385-820b-7e9c03f1b490",
   "metadata": {},
   "outputs": [],
   "source": [
    "collection_df"
   ]
  },
  {
   "cell_type": "markdown",
   "id": "9716689d-ae1d-4db0-bb0c-7bfe464dbc44",
   "metadata": {},
   "source": [
    "# Shopify"
   ]
  },
  {
   "cell_type": "code",
   "execution_count": null,
   "id": "61056aab-4fb7-4e5a-9e41-be24c21f2d07",
   "metadata": {},
   "outputs": [],
   "source": [
    "shopify = ShopifyApp(store_name=os.getenv('STORE_NAME'), access_token=os.getenv('ACCESS_TOKEN'))\n",
    "client = shopify.create_session()"
   ]
  },
  {
   "cell_type": "code",
   "execution_count": null,
   "id": "111579b0-1542-4e4b-a702-39ff9ffbf9e4",
   "metadata": {},
   "outputs": [],
   "source": [
    "for index in range(len(collection_df)):\n",
    "    print(collection_df.iloc[index, 0])"
   ]
  },
  {
   "cell_type": "code",
   "execution_count": null,
   "id": "cce23ed9-68e5-4246-9e04-bcee6d366605",
   "metadata": {},
   "outputs": [],
   "source": [
    "has_next_page = True\n",
    "cursor = None\n",
    "results = list()\n",
    "while has_next_page:\n",
    "    response = shopify.get_collections(client, cursor=cursor)\n",
    "    records = response['data']['collections']['nodes']\n",
    "    results.extend(records)\n",
    "    has_next_page = response['data']['collections']['pageInfo']['hasNextPage']\n",
    "    cursor = response['data']['collections']['pageInfo']['endCursor']\n",
    "results_df = pd.DataFrame.from_records(results)\n",
    "results_df.to_csv('collection_list.csv', index=False)"
   ]
  },
  {
   "cell_type": "code",
   "execution_count": null,
   "id": "8893e24a-4433-46a0-9753-43d13b5df072",
   "metadata": {},
   "outputs": [],
   "source": [
    "shopify_col_df = pd.read_csv('collection_list.csv')"
   ]
  },
  {
   "cell_type": "code",
   "execution_count": null,
   "id": "f9b838c4-ff16-4134-8413-722005d26266",
   "metadata": {},
   "outputs": [],
   "source": [
    "collection_df['Handle'] = collection_df.apply(lambda x: to_handle(title=x['Collection Name'], alt_title=''), axis=1)"
   ]
  },
  {
   "cell_type": "code",
   "execution_count": null,
   "id": "8474472b-64c9-4184-9a7e-309a344d8f68",
   "metadata": {},
   "outputs": [],
   "source": [
    "collection_df = collection_df.merge(shopify_col_df, how='left', left_on='Handle', right_on='handle')"
   ]
  },
  {
   "cell_type": "code",
   "execution_count": null,
   "id": "f62821ef-24ab-4509-939e-f514f5e44c94",
   "metadata": {},
   "outputs": [],
   "source": [
    "collection_df"
   ]
  },
  {
   "cell_type": "code",
   "execution_count": null,
   "id": "c8890e0f-337b-43e7-a2be-898633a86fe1",
   "metadata": {},
   "outputs": [],
   "source": [
    "collection_df[~pd.isna(collection_df['id'])]"
   ]
  },
  {
   "cell_type": "code",
   "execution_count": null,
   "id": "2e1d9b82-0c1f-4290-875e-7a91d5af28a2",
   "metadata": {},
   "outputs": [],
   "source": [
    "collection_df[pd.isna(collection_df['id'])]"
   ]
  },
  {
   "cell_type": "code",
   "execution_count": null,
   "id": "f292193d-bd46-43d4-bd08-f2919efb2c21",
   "metadata": {},
   "outputs": [],
   "source": []
  },
  {
   "cell_type": "markdown",
   "id": "a40b5d7c-6342-4df9-b119-3976103e1e45",
   "metadata": {},
   "source": [
    "# Adding UPC"
   ]
  },
  {
   "cell_type": "code",
   "execution_count": null,
   "id": "789131f5-de06-4b97-a7f8-89528d407e5e",
   "metadata": {},
   "outputs": [],
   "source": [
    "products_df = pd.read_csv('product_data/products_output.csv')"
   ]
  },
  {
   "cell_type": "code",
   "execution_count": null,
   "id": "81ff3d5c-7ca5-4142-9efa-bf5399b4d8d6",
   "metadata": {},
   "outputs": [],
   "source": [
    "products_df.head()[['Handle','Variant SKU']]"
   ]
  },
  {
   "cell_type": "code",
   "execution_count": null,
   "id": "8444cab1-0f44-498d-852e-488039665a4e",
   "metadata": {},
   "outputs": [],
   "source": [
    "products_df = adding_upc(products_df)"
   ]
  },
  {
   "cell_type": "code",
   "execution_count": null,
   "id": "386dc457-a0a9-41ed-a40a-1de0585e503e",
   "metadata": {},
   "outputs": [],
   "source": [
    "products_df.to_csv('product_data/products_with_upc.csv', index=False)"
   ]
  },
  {
   "cell_type": "markdown",
   "id": "9bb40a04-ddf0-47ab-b0bb-f62af37c33a3",
   "metadata": {},
   "source": [
    "# Adding Tags"
   ]
  },
  {
   "cell_type": "code",
   "execution_count": null,
   "id": "bbf5edf3-7067-49dc-b1da-d3fb50b088a2",
   "metadata": {},
   "outputs": [],
   "source": [
    "products_df = pd.read_csv('product_data/products_with_upc.csv')"
   ]
  },
  {
   "cell_type": "code",
   "execution_count": null,
   "id": "1c108a2b-28d7-4ecf-b91d-01d37698c4a1",
   "metadata": {},
   "outputs": [],
   "source": [
    "products_df['Tags'] = products_df.apply(lambda x: adding_tags(x['Title'], x['Tags']), axis=1)"
   ]
  },
  {
   "cell_type": "code",
   "execution_count": null,
   "id": "80107a77-0e7e-4a39-b076-2bd7493696a8",
   "metadata": {},
   "outputs": [],
   "source": [
    "products_df[['Handle','Title','Tags', 'Vendor']]"
   ]
  },
  {
   "cell_type": "markdown",
   "id": "245c20ad-c459-4e50-9b8f-c28ab3e2b064",
   "metadata": {},
   "source": [
    "# change Vendor"
   ]
  },
  {
   "cell_type": "code",
   "execution_count": null,
   "id": "29d86955-2015-478c-95e8-02d061730835",
   "metadata": {},
   "outputs": [],
   "source": [
    "products_df['Vendor']"
   ]
  },
  {
   "cell_type": "code",
   "execution_count": null,
   "id": "cbe5e5f9-eb95-481e-a62b-a07992e7bb7a",
   "metadata": {},
   "outputs": [],
   "source": [
    "products_df['Vendor'] = products_df['Vendor'].apply(lambda x: 'Htrn71' if x == 'Hobbytron' else None)"
   ]
  },
  {
   "cell_type": "code",
   "execution_count": null,
   "id": "a42382c1-2b40-4311-81d2-6e935463553f",
   "metadata": {},
   "outputs": [],
   "source": [
    "products_df['Vendor']"
   ]
  },
  {
   "cell_type": "code",
   "execution_count": null,
   "id": "40a6040a-9f9a-4d25-bb79-9ec7841e34b5",
   "metadata": {},
   "outputs": [],
   "source": [
    "products_df.to_csv('products_with_upc_upd_vendor_tags_rev1.csv', index=False)"
   ]
  },
  {
   "cell_type": "code",
   "execution_count": null,
   "id": "a2194db2-9826-4298-a170-1498b0ebd7ea",
   "metadata": {},
   "outputs": [],
   "source": []
  }
 ],
 "metadata": {
  "kernelspec": {
   "display_name": "hobbytron_venv",
   "language": "python",
   "name": "hobbytron_venv"
  },
  "language_info": {
   "codemirror_mode": {
    "name": "ipython",
    "version": 3
   },
   "file_extension": ".py",
   "mimetype": "text/x-python",
   "name": "python",
   "nbconvert_exporter": "python",
   "pygments_lexer": "ipython3",
   "version": "3.11.2"
  }
 },
 "nbformat": 4,
 "nbformat_minor": 5
}
